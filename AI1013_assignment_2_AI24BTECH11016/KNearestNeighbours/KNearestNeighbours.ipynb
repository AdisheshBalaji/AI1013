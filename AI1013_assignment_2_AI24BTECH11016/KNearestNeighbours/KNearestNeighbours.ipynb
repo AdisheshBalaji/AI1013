{
 "cells": [
  {
   "cell_type": "code",
   "execution_count": 2,
   "id": "40865114",
   "metadata": {},
   "outputs": [],
   "source": [
    "import pandas as pd\n",
    "import numpy as np\n",
    "import matplotlib.pyplot as plt\n",
    "from statistics import multimode\n",
    "from sklearn.model_selection import train_test_split"
   ]
  },
  {
   "cell_type": "code",
   "execution_count": 3,
   "id": "0447d2cf",
   "metadata": {},
   "outputs": [],
   "source": [
    "\n",
    "url = \"https://archive.ics.uci.edu/ml/machine-learning-databases/abalone/abalone.data\"\n",
    "abalone = pd.read_csv(url, header = None)"
   ]
  },
  {
   "cell_type": "code",
   "execution_count": 4,
   "id": "acd2a247",
   "metadata": {},
   "outputs": [],
   "source": [
    "column_names = [\"Sex\", \"Length\", \"Diameter\", \"Height\", \"Whole weight\", \"Shucked weight\"\n",
    "                , \"Viscera weight\", \"Shell weight\", \"Rings\"]\n",
    "\n",
    "abalone.columns = column_names"
   ]
  },
  {
   "cell_type": "code",
   "execution_count": 5,
   "id": "c08c428d",
   "metadata": {},
   "outputs": [
    {
     "data": {
      "text/html": [
       "<div>\n",
       "<style scoped>\n",
       "    .dataframe tbody tr th:only-of-type {\n",
       "        vertical-align: middle;\n",
       "    }\n",
       "\n",
       "    .dataframe tbody tr th {\n",
       "        vertical-align: top;\n",
       "    }\n",
       "\n",
       "    .dataframe thead th {\n",
       "        text-align: right;\n",
       "    }\n",
       "</style>\n",
       "<table border=\"1\" class=\"dataframe\">\n",
       "  <thead>\n",
       "    <tr style=\"text-align: right;\">\n",
       "      <th></th>\n",
       "      <th>Length</th>\n",
       "      <th>Diameter</th>\n",
       "      <th>Height</th>\n",
       "      <th>Whole weight</th>\n",
       "      <th>Shucked weight</th>\n",
       "      <th>Viscera weight</th>\n",
       "      <th>Shell weight</th>\n",
       "      <th>Rings</th>\n",
       "    </tr>\n",
       "  </thead>\n",
       "  <tbody>\n",
       "    <tr>\n",
       "      <th>0</th>\n",
       "      <td>0.455</td>\n",
       "      <td>0.365</td>\n",
       "      <td>0.095</td>\n",
       "      <td>0.5140</td>\n",
       "      <td>0.2245</td>\n",
       "      <td>0.1010</td>\n",
       "      <td>0.1500</td>\n",
       "      <td>15</td>\n",
       "    </tr>\n",
       "    <tr>\n",
       "      <th>1</th>\n",
       "      <td>0.350</td>\n",
       "      <td>0.265</td>\n",
       "      <td>0.090</td>\n",
       "      <td>0.2255</td>\n",
       "      <td>0.0995</td>\n",
       "      <td>0.0485</td>\n",
       "      <td>0.0700</td>\n",
       "      <td>7</td>\n",
       "    </tr>\n",
       "    <tr>\n",
       "      <th>2</th>\n",
       "      <td>0.530</td>\n",
       "      <td>0.420</td>\n",
       "      <td>0.135</td>\n",
       "      <td>0.6770</td>\n",
       "      <td>0.2565</td>\n",
       "      <td>0.1415</td>\n",
       "      <td>0.2100</td>\n",
       "      <td>9</td>\n",
       "    </tr>\n",
       "    <tr>\n",
       "      <th>3</th>\n",
       "      <td>0.440</td>\n",
       "      <td>0.365</td>\n",
       "      <td>0.125</td>\n",
       "      <td>0.5160</td>\n",
       "      <td>0.2155</td>\n",
       "      <td>0.1140</td>\n",
       "      <td>0.1550</td>\n",
       "      <td>10</td>\n",
       "    </tr>\n",
       "    <tr>\n",
       "      <th>4</th>\n",
       "      <td>0.330</td>\n",
       "      <td>0.255</td>\n",
       "      <td>0.080</td>\n",
       "      <td>0.2050</td>\n",
       "      <td>0.0895</td>\n",
       "      <td>0.0395</td>\n",
       "      <td>0.0550</td>\n",
       "      <td>7</td>\n",
       "    </tr>\n",
       "    <tr>\n",
       "      <th>...</th>\n",
       "      <td>...</td>\n",
       "      <td>...</td>\n",
       "      <td>...</td>\n",
       "      <td>...</td>\n",
       "      <td>...</td>\n",
       "      <td>...</td>\n",
       "      <td>...</td>\n",
       "      <td>...</td>\n",
       "    </tr>\n",
       "    <tr>\n",
       "      <th>4172</th>\n",
       "      <td>0.565</td>\n",
       "      <td>0.450</td>\n",
       "      <td>0.165</td>\n",
       "      <td>0.8870</td>\n",
       "      <td>0.3700</td>\n",
       "      <td>0.2390</td>\n",
       "      <td>0.2490</td>\n",
       "      <td>11</td>\n",
       "    </tr>\n",
       "    <tr>\n",
       "      <th>4173</th>\n",
       "      <td>0.590</td>\n",
       "      <td>0.440</td>\n",
       "      <td>0.135</td>\n",
       "      <td>0.9660</td>\n",
       "      <td>0.4390</td>\n",
       "      <td>0.2145</td>\n",
       "      <td>0.2605</td>\n",
       "      <td>10</td>\n",
       "    </tr>\n",
       "    <tr>\n",
       "      <th>4174</th>\n",
       "      <td>0.600</td>\n",
       "      <td>0.475</td>\n",
       "      <td>0.205</td>\n",
       "      <td>1.1760</td>\n",
       "      <td>0.5255</td>\n",
       "      <td>0.2875</td>\n",
       "      <td>0.3080</td>\n",
       "      <td>9</td>\n",
       "    </tr>\n",
       "    <tr>\n",
       "      <th>4175</th>\n",
       "      <td>0.625</td>\n",
       "      <td>0.485</td>\n",
       "      <td>0.150</td>\n",
       "      <td>1.0945</td>\n",
       "      <td>0.5310</td>\n",
       "      <td>0.2610</td>\n",
       "      <td>0.2960</td>\n",
       "      <td>10</td>\n",
       "    </tr>\n",
       "    <tr>\n",
       "      <th>4176</th>\n",
       "      <td>0.710</td>\n",
       "      <td>0.555</td>\n",
       "      <td>0.195</td>\n",
       "      <td>1.9485</td>\n",
       "      <td>0.9455</td>\n",
       "      <td>0.3765</td>\n",
       "      <td>0.4950</td>\n",
       "      <td>12</td>\n",
       "    </tr>\n",
       "  </tbody>\n",
       "</table>\n",
       "<p>4177 rows × 8 columns</p>\n",
       "</div>"
      ],
      "text/plain": [
       "      Length  Diameter  Height  Whole weight  Shucked weight  Viscera weight  \\\n",
       "0      0.455     0.365   0.095        0.5140          0.2245          0.1010   \n",
       "1      0.350     0.265   0.090        0.2255          0.0995          0.0485   \n",
       "2      0.530     0.420   0.135        0.6770          0.2565          0.1415   \n",
       "3      0.440     0.365   0.125        0.5160          0.2155          0.1140   \n",
       "4      0.330     0.255   0.080        0.2050          0.0895          0.0395   \n",
       "...      ...       ...     ...           ...             ...             ...   \n",
       "4172   0.565     0.450   0.165        0.8870          0.3700          0.2390   \n",
       "4173   0.590     0.440   0.135        0.9660          0.4390          0.2145   \n",
       "4174   0.600     0.475   0.205        1.1760          0.5255          0.2875   \n",
       "4175   0.625     0.485   0.150        1.0945          0.5310          0.2610   \n",
       "4176   0.710     0.555   0.195        1.9485          0.9455          0.3765   \n",
       "\n",
       "      Shell weight  Rings  \n",
       "0           0.1500     15  \n",
       "1           0.0700      7  \n",
       "2           0.2100      9  \n",
       "3           0.1550     10  \n",
       "4           0.0550      7  \n",
       "...            ...    ...  \n",
       "4172        0.2490     11  \n",
       "4173        0.2605     10  \n",
       "4174        0.3080      9  \n",
       "4175        0.2960     10  \n",
       "4176        0.4950     12  \n",
       "\n",
       "[4177 rows x 8 columns]"
      ]
     },
     "execution_count": 5,
     "metadata": {},
     "output_type": "execute_result"
    }
   ],
   "source": [
    "abalone = abalone.drop(columns = \"Sex\")\n",
    "abalone"
   ]
  },
  {
   "cell_type": "code",
   "execution_count": 6,
   "id": "c0cb9cfd",
   "metadata": {},
   "outputs": [],
   "source": [
    "X = abalone.drop(columns = \"Rings\")\n",
    "y = abalone[\"Rings\"]\n",
    "X_train, X_test, y_train, y_test = train_test_split(\n",
    "                                abalone.drop(columns = \"Rings\"), abalone[\"Rings\"], test_size = 0.3, random_state = 333)\n"
   ]
  },
  {
   "cell_type": "code",
   "execution_count": 7,
   "id": "76b34b6c",
   "metadata": {},
   "outputs": [
    {
     "data": {
      "text/html": [
       "<div>\n",
       "<style scoped>\n",
       "    .dataframe tbody tr th:only-of-type {\n",
       "        vertical-align: middle;\n",
       "    }\n",
       "\n",
       "    .dataframe tbody tr th {\n",
       "        vertical-align: top;\n",
       "    }\n",
       "\n",
       "    .dataframe thead th {\n",
       "        text-align: right;\n",
       "    }\n",
       "</style>\n",
       "<table border=\"1\" class=\"dataframe\">\n",
       "  <thead>\n",
       "    <tr style=\"text-align: right;\">\n",
       "      <th></th>\n",
       "      <th>Length</th>\n",
       "      <th>Diameter</th>\n",
       "      <th>Height</th>\n",
       "      <th>Whole weight</th>\n",
       "      <th>Shucked weight</th>\n",
       "      <th>Viscera weight</th>\n",
       "      <th>Shell weight</th>\n",
       "    </tr>\n",
       "  </thead>\n",
       "  <tbody>\n",
       "    <tr>\n",
       "      <th>0</th>\n",
       "      <td>0.569552</td>\n",
       "      <td>0.446407</td>\n",
       "      <td>0.154437</td>\n",
       "      <td>1.016849</td>\n",
       "      <td>0.439051</td>\n",
       "      <td>0.222526</td>\n",
       "      <td>0.291208</td>\n",
       "    </tr>\n",
       "  </tbody>\n",
       "</table>\n",
       "</div>"
      ],
      "text/plain": [
       "     Length  Diameter    Height  Whole weight  Shucked weight  Viscera weight  \\\n",
       "0  0.569552  0.446407  0.154437      1.016849        0.439051        0.222526   \n",
       "\n",
       "   Shell weight  \n",
       "0      0.291208  "
      ]
     },
     "execution_count": 7,
     "metadata": {},
     "output_type": "execute_result"
    }
   ],
   "source": [
    "\n",
    "\n",
    "#Physical measurements for new abalone\n",
    "abalone_new = {\n",
    "    \"Length\": [0.569552],\n",
    "    \"Diameter\": [0.446407],\n",
    "    \"Height\": [0.154437],\n",
    "    \"Whole weight\": [1.016849],\n",
    "    \"Shucked weight\": [0.439051],\n",
    "    \"Viscera weight\": [0.222526],\n",
    "    \"Shell weight\": [0.291208]\n",
    "}\n",
    "\n",
    "#converting into a pandas dataframe\n",
    "abalone_new = pd.DataFrame(abalone_new)\n",
    "abalone_new\n"
   ]
  },
  {
   "cell_type": "code",
   "execution_count": 8,
   "id": "5f3b9bbb",
   "metadata": {},
   "outputs": [],
   "source": [
    "#defining a mode function that returns random values when there are multiple modes\n",
    "def mode(arr):\n",
    "    np.random.seed(123)\n",
    "    if len(multimode(arr)) ==1:\n",
    "        return multimode(arr)[0]\n",
    "    \n",
    "    else:\n",
    "        return np.random.choice(multimode(arr))"
   ]
  },
  {
   "cell_type": "code",
   "execution_count": 9,
   "id": "4db11f00",
   "metadata": {},
   "outputs": [
    {
     "data": {
      "text/plain": [
       "11"
      ]
     },
     "execution_count": 9,
     "metadata": {},
     "output_type": "execute_result"
    }
   ],
   "source": [
    "\n",
    "distances = []\n",
    "for rows in range(len(X_train)):\n",
    "    #calculating the euclidean distance between each row of X_train with the new abalone\n",
    "    distances.append(np.linalg.norm(X_train.iloc[rows] - abalone_new.iloc[0]))\n",
    "\n",
    "\n",
    "distances = np.array(distances)\n",
    "\n",
    "#returning the closest 3 neighbours to abalone_new\n",
    "idx_min_3 = np.argsort(distances)[:3]\n",
    "\n",
    "#caluclating the mode of the age of the 3 closest neighbours\n",
    "ages_min_3 = y_train.iloc[idx_min_3]\n",
    "#predicted_age = ages_min_3.mode().values[0]\n",
    "predicted_age = mode(ages_min_3)\n",
    "predicted_age"
   ]
  },
  {
   "cell_type": "code",
   "execution_count": 10,
   "id": "307870f7",
   "metadata": {},
   "outputs": [],
   "source": [
    "predicted_ages_test = []\n",
    "\n",
    "#converting to np array for faster computation\n",
    "X_train_np = X_train.values\n",
    "\n",
    "for i in range(len(X_test)):\n",
    "\n",
    "    #converting to np array for faster computation\n",
    "    x_test_row = X_test.iloc[i].values\n",
    "    \n",
    "    #computing the euclidean norm between X_train and X_test\n",
    "    distances = np.linalg.norm(X_train_np - x_test_row, axis = 1)\n",
    "    \n",
    "    #finding the closest neighbours to x_test_row\n",
    "    idx_min_3 = np.argsort(distances)[:3]\n",
    "    \n",
    "    ages_min_3 = y_train.iloc[idx_min_3]\n",
    "    \n",
    "    predicted_ages_test.append(mode(ages_min_3))\n"
   ]
  },
  {
   "cell_type": "markdown",
   "id": "ea06884d",
   "metadata": {},
   "source": [
    "We calculate the Mean-Squared-Error using the following formula\n",
    "$$\n",
    "    \\text{MSE} = \\frac{1}{M} \\sum_{j=0}^{M-1} \\left( \\text{predicted_ages_test}[j] - \\text{y_test}[j] \\right)^2\n",
    "$$"
   ]
  },
  {
   "cell_type": "code",
   "execution_count": 11,
   "id": "b5535811",
   "metadata": {},
   "outputs": [
    {
     "data": {
      "text/plain": [
       "7.515948963317386"
      ]
     },
     "execution_count": 11,
     "metadata": {},
     "output_type": "execute_result"
    }
   ],
   "source": [
    "#calculating the mean squared errpr\n",
    "mean_squared_error = (np.linalg.norm(predicted_ages_test - y_test))**2/len(y_test)\n",
    "mean_squared_error\n"
   ]
  },
  {
   "cell_type": "code",
   "execution_count": 12,
   "id": "c5a6e44b",
   "metadata": {},
   "outputs": [],
   "source": [
    "def knn(X_train, X_test, k):\n",
    "    predicted_ages_test = []\n",
    "\n",
    "#converting to np array for faster computation\n",
    "    X_train_np = X_train.values\n",
    "\n",
    "    for i in range(len(X_test)):\n",
    "\n",
    "        #converting to np array for faster computation\n",
    "        x_test_row = X_test.iloc[i].values\n",
    "    \n",
    "        #computing the euclidean norm between X_train and X_test\n",
    "        distances = np.linalg.norm(X_train_np - x_test_row, axis = 1)\n",
    "    \n",
    "        #finding the closest neighbours to x_test_row\n",
    "        idx_min_k = np.argsort(distances)[:k]\n",
    "        \n",
    "        \n",
    "        ages_min_k = y_train.iloc[idx_min_k]\n",
    "        \n",
    "        #calculating the predicted age by taking the mode of the nearest k neighbours\n",
    "        predicted_age = mode(ages_min_k)\n",
    "\n",
    "        predicted_ages_test.append(predicted_age)\n",
    "        \n",
    "    predicted_ages_test = np.array(predicted_ages_test)\n",
    "    return predicted_ages_test\n",
    "    #y_test_np = y_test.values\n",
    "    \n",
    "    #mean_squared_error = np.mean((predicted_ages_test - y_test_np) ** 2)\n",
    "    #return mean_squared_error\n",
    "    "
   ]
  },
  {
   "cell_type": "code",
   "execution_count": 13,
   "id": "4fa9cb1d",
   "metadata": {},
   "outputs": [],
   "source": [
    "def calculate_mse(arr1, arr2):\n",
    "    return np.mean((arr1 - arr2)**2)"
   ]
  },
  {
   "cell_type": "code",
   "execution_count": 14,
   "id": "806e7984",
   "metadata": {},
   "outputs": [],
   "source": [
    "#function to run knn from values 1 to 50\n",
    "def optimal_k(X_train, X_test):\n",
    "    mse_values = []\n",
    "    for k in range(1, 51):\n",
    "        predicted_ages = knn(X_train, X_test, k)\n",
    "        mse_k = calculate_mse(predicted_ages, y_test.values)\n",
    "        mse_values.append(mse_k)\n",
    "    mse_values = np.array(mse_values)\n",
    "    return mse_values"
   ]
  },
  {
   "cell_type": "markdown",
   "id": "9fc9c1eb",
   "metadata": {},
   "source": [
    "#### Tuning $k$ to Achieve Optimal Performance\n",
    "Vary $k$ from 1 to 50, and compute the MSE value for each $k$. Store the MSE values in an array named mse_values. Generate\n",
    "a plot of $k$ values on the $x$‑axis and mse_values on the $y$‑axis. From the plot, report an optimal value of $k$ at which MSE is\n",
    "the smallest. If there are multiple optimal values for $k$, you may pick any one at random. Also report the MSE corresponding\n",
    "to this optimal value of $k$."
   ]
  },
  {
   "cell_type": "code",
   "execution_count": 15,
   "id": "eba5ba81",
   "metadata": {},
   "outputs": [
    {
     "data": {
      "image/png": "[encoded data removed]",
      "text/plain": [
       "<Figure size 1000x800 with 1 Axes>"
      ]
     },
     "metadata": {},
     "output_type": "display_data"
    }
   ],
   "source": [
    "\n",
    "xvals = np.arange(1, 51)\n",
    "yvals = optimal_k(X_train, X_test)\n",
    "\n",
    "#calculating optimal value of k\n",
    "min_index = np.argmin(yvals)\n",
    "minx = xvals[min_index]\n",
    "miny = yvals[min_index]\n",
    "\n",
    "#plotting\n",
    "plt.figure(figsize = (10, 8))\n",
    "plt.plot(xvals, yvals, color = \"blue\",  linewidth=2, markersize=6, alpha=0.8, label = \"MSE\")\n",
    "plt.axvline(x = minx, c = \"r\", linestyle = \"dashed\", label = f\"Optimal k = {min_index}\")\n",
    "plt.xlabel(\"K values\", fontsize=12)\n",
    "plt.ylabel(\"Mean Squared Error(MSE)\", fontsize=12)\n",
    "plt.title(f\"Tuning $k$ to Achieve Optimal Performance\", fontsize = 14)\n",
    "plt.legend(fontsize=12, frameon=True, shadow=True, loc=\"upper right\", bbox_to_anchor=(1.05, 1))\n",
    "plt.grid(True)\n",
    "plt.savefig(\"MSE_vs_K\")"
   ]
  },
  {
   "cell_type": "markdown",
   "id": "226fb9af",
   "metadata": {},
   "source": [
    "## Observations\n",
    "Initial High Error: For very small values of \n",
    "$k$, the MSE is high, likely due to high variance (overfitting) when very few neighbors are considered. </br>\n",
    "Optimal $k=16$, indicating the optimal trade-off between bias and variance\n",
    "\n",
    "\n",
    "\n",
    "\n"
   ]
  },
  {
   "cell_type": "code",
   "execution_count": null,
   "id": "a285e22e",
   "metadata": {},
   "outputs": [],
   "source": []
  }
 ],
 "metadata": {
  "kernelspec": {
   "display_name": "Python 3 (ipykernel)",
   "language": "python",
   "name": "python3"
  },
  "language_info": {
   "codemirror_mode": {
    "name": "ipython",
    "version": 3
   },
   "file_extension": ".py",
   "mimetype": "text/x-python",
   "name": "python",
   "nbconvert_exporter": "python",
   "pygments_lexer": "ipython3",
   "version": "3.12.3"
  }
 },
 "nbformat": 4,
 "nbformat_minor": 5
}
