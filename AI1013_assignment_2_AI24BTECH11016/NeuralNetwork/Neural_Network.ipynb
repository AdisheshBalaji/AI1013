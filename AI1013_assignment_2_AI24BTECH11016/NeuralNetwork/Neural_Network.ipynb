{
 "cells": [
  {
   "cell_type": "code",
   "execution_count": 3,
   "id": "1d6687a0",
   "metadata": {},
   "outputs": [],
   "source": [
    "import numpy as np\n",
    "import pandas as pd\n",
    "import matplotlib.pyplot as plt"
   ]
  },
  {
   "cell_type": "code",
   "execution_count": 4,
   "id": "7811d87c",
   "metadata": {},
   "outputs": [],
   "source": [
    "data_Q1 = pd.read_csv(\"data_Q1.csv\")"
   ]
  },
  {
   "cell_type": "code",
   "execution_count": 5,
   "id": "a5e2c6d0",
   "metadata": {},
   "outputs": [],
   "source": [
    "training_x1 = data_Q1[\"x1\"].to_numpy()\n",
    "training_x2 = data_Q1[\"x2\"].to_numpy()\n",
    "training_y = data_Q1[\"y\"].to_numpy()\n"
   ]
  },
  {
   "cell_type": "code",
   "execution_count": 6,
   "id": "039ea8e0",
   "metadata": {},
   "outputs": [],
   "source": [
    "\n",
    "training_x = np.array([[x1, x2, 1] for x1, x2 in zip(training_x1, training_x2)])"
   ]
  },
  {
   "cell_type": "code",
   "execution_count": 7,
   "id": "97b4ac96",
   "metadata": {},
   "outputs": [],
   "source": [
    "np.random.seed(123)"
   ]
  },
  {
   "cell_type": "markdown",
   "id": "2f7c2d3d",
   "metadata": {},
   "source": [
    "# Neural Network Representation\n",
    "\n",
    "The neural network can be represented as follows:\n",
    "\n",
    "$$X \\xrightarrow{W^{(1)}} H \\xrightarrow{\\sigma} Z \\xrightarrow{W^{(2)}} O \\xrightarrow{\\sigma} \\hat{y}$$\n",
    "\n",
    "where:\n",
    "\n",
    "- $X$ is the input data (coming from `training_data`) of size $N \\times 3$.\n",
    "- $W^{(1)} = \\left[ W^{(1)}_{k,l} : k, l \\in \\{1, 2, 3\\} \\right]$ is a weight matrix of size $3 \\times 3$, connecting the input layer and hidden layer.\n",
    "- $W^{(2)} = \\begin{bmatrix} W^{(2)}_{k,1} : k \\in \\{1, 2, 3, 4\\} \\end{bmatrix}^\\top$ is a weight matrix of size $4 \\times 1$ between the hidden layer and the output layer.\n",
    "- $\\sigma$ is the sigmoid activation function, defined as:\n",
    "\n",
    "$$\\sigma(x) = \\frac{1}{1+e^{-x}}$$\n",
    "\n",
    "- $H = X \\times W^{(1)}$ is a matrix of size $N \\times 3$ obtained at the hidden layer, before the activation function $\\sigma$ is applied.\n",
    "- $Z$ is a matrix of size $N \\times 4$ obtained at the hidden layer after applying $\\sigma$ element-wise to $H$, followed by appending a bias column at the end.\n",
    "- $O = Z \\times W^{(2)}$ is a matrix of size $N \\times 1$ obtained at the output layer before the activation function is applied.\n",
    "- $\\hat{y} = \\sigma(O)$ is a matrix of size $N \\times 1$ containing the predicted values.\n"
   ]
  },
  {
   "cell_type": "code",
   "execution_count": 8,
   "id": "e40bb08d",
   "metadata": {},
   "outputs": [],
   "source": [
    "def sigmoid(x):\n",
    "    return 1/(1 + np.exp(-x))"
   ]
  },
  {
   "cell_type": "code",
   "execution_count": 9,
   "id": "66244573",
   "metadata": {},
   "outputs": [],
   "source": [
    "def grad_sigmoid(x):\n",
    "    sig_x = sigmoid(x)\n",
    "    return sig_x * (1 - sig_x)"
   ]
  },
  {
   "cell_type": "code",
   "execution_count": 10,
   "id": "e5bf9ac9",
   "metadata": {},
   "outputs": [],
   "source": [
    "#function to generate random numbers between a and b\n",
    "def random_generation(a, b):\n",
    "  epsilon = np.random.uniform(0, 1)\n",
    "  return a + epsilon*(b - a)"
   ]
  },
  {
   "cell_type": "code",
   "execution_count": 11,
   "id": "fec8a5c4",
   "metadata": {},
   "outputs": [],
   "source": [
    "#initializing weights1 with random values\n",
    "weights1 = np.empty((3, 3))\n",
    "for i in range(3):\n",
    "  for j in range(3):\n",
    "    weights1[i, j] = random_generation(-1, 1)\n"
   ]
  },
  {
   "cell_type": "code",
   "execution_count": 12,
   "id": "32311644",
   "metadata": {},
   "outputs": [
    {
     "data": {
      "text/plain": [
       "(4, 1)"
      ]
     },
     "execution_count": 12,
     "metadata": {},
     "output_type": "execute_result"
    }
   ],
   "source": [
    "#initializing weights2 with random values\n",
    "weights2 = np.empty((4, 1))\n",
    "for i in range(4):\n",
    "    weights2[i] = random_generation(-1, 1)\n",
    "weights2.reshape(-1, 1)\n",
    "weights2.shape"
   ]
  },
  {
   "cell_type": "code",
   "execution_count": 13,
   "id": "c0a6faf6",
   "metadata": {},
   "outputs": [],
   "source": [
    "learning_rate = 0.05\n",
    "max_epochs = 100"
   ]
  },
  {
   "cell_type": "code",
   "execution_count": 14,
   "id": "ca9d6280",
   "metadata": {},
   "outputs": [],
   "source": [
    "training_error = []"
   ]
  },
  {
   "cell_type": "code",
   "execution_count": 15,
   "id": "d970601c",
   "metadata": {},
   "outputs": [],
   "source": [
    "training_y = training_y.reshape(-1, 1)"
   ]
  },
  {
   "cell_type": "markdown",
   "id": "85b2a1a4",
   "metadata": {},
   "source": [
    "The gradient with respect to $W^{(2)}$ is given as:\n",
    "\n",
    "$$\n",
    "\\frac{\\partial C}{\\partial W^{(2)}_{k,l}} = \n",
    "\\sum_{i=1}^{N} \n",
    "\\frac{\\partial C}{\\partial \\hat{y}_i} \\cdot \n",
    "\\frac{\\partial \\hat{y}_i}{\\partial O_i} \\cdot \n",
    "\\frac{\\partial O_i}{\\partial W^{(2)}_{k,l}}\n",
    "$$\n",
    "\n",
    "The gradient with respect to $ W^{(1)} $ is given as:\n",
    "\n",
    "$$\n",
    "\\frac{\\partial L}{\\partial W^{(1)}_{k,l}} =\n",
    "\\sum_{i=1}^{N} \n",
    "\\frac{\\partial L}{\\partial \\hat{y}_i} \\times \n",
    "\\frac{\\partial \\hat{y}_i}{\\partial O_i} \\times \n",
    "\\frac{\\partial O_i}{\\partial Z_{i,l}} \\times \n",
    "\\frac{\\partial Z_{i,l}}{\\partial H_{i,l}} \\times \n",
    "\\frac{\\partial H_{i,l}}{\\partial W^{(1)}_{k,l}}\n",
    "$$\n",
    "\n",
    "where $k, l \\in \\{1, 2, 3\\}$.\n"
   ]
  },
  {
   "cell_type": "code",
   "execution_count": 16,
   "id": "da74b444",
   "metadata": {},
   "outputs": [],
   "source": [
    "#function to compute gradient of the training error with respect to weights1\n",
    "def compute_gradients_weights1(training_x, training_y, weights1, Z, H, O, y_hat):\n",
    "    gradient1 = -(training_y - y_hat) * grad_sigmoid(O) * grad_sigmoid(H)\n",
    "    gradient1 = gradient1 @ np.diag(weights2[:-1].reshape(-1))\n",
    "    gradient1 = training_x.T @ gradient1\n",
    "    gradient1 /= len(training_y)\n",
    "    return gradient1"
   ]
  },
  {
   "cell_type": "code",
   "execution_count": 17,
   "id": "8ca8048c",
   "metadata": {},
   "outputs": [],
   "source": [
    "#function to compute gradient of the training error with respect to weights2\n",
    "def compute_gradients_weights2(training_x, training_y, weights2, Z, H, O, y_hat):\n",
    "    gradient2 = -(training_y - y_hat) * grad_sigmoid(O) \n",
    "    gradient2 = Z.T @ gradient2\n",
    "    gradient2 /= len(training_y)\n",
    "    return gradient2\n",
    "    "
   ]
  },
  {
   "cell_type": "markdown",
   "id": "9abae7b1",
   "metadata": {},
   "source": [
    "Applying Gradient Descent on $W^{(2)}$ and $W^{(1)}$\n",
    "    \\begin{align*}\n",
    "        W^{(2)}_{k,1} &\\leftarrow W^{(2)}_{k,1} - \\gamma \\frac{\\partial L}{\\partial W^{(2)}_{k,1}}, \\quad k \\in \\{1, 2, 3, 4\\}. \\\\\n",
    "        W^{(1)}_{k,l} &\\leftarrow W^{(1)}_{k,l} - \\gamma \\frac{\\partial L}{\\partial W^{(1)}_{k,l}}, \\quad k, l \\in \\{1, 2, 3\\}.\n",
    "    \\end{align*}\n",
    "Where $\\gamma$ denotes the learning rate parameter"
   ]
  },
  {
   "cell_type": "code",
   "execution_count": 18,
   "id": "61b438d7",
   "metadata": {},
   "outputs": [],
   "source": [
    "#backpropogation\n",
    "def update_weights(weights1, weights2, gradient1, gradient2):\n",
    "    weights1 -= learning_rate * gradient1 \n",
    "    weights2 -= learning_rate * gradient2\n"
   ]
  },
  {
   "cell_type": "code",
   "execution_count": 19,
   "id": "f5852ff3",
   "metadata": {},
   "outputs": [],
   "source": [
    "\n",
    "for epoch in range(max_epochs):\n",
    "    \n",
    "    #defining parameters as mentioned in the assignment\n",
    "    X = training_x\n",
    "    H = X @ weights1\n",
    "    Z = sigmoid(H)\n",
    "    \n",
    "    #appending a ones column to Z\n",
    "    ones_column = np.ones((200, 1))\n",
    "    Z = np.hstack((Z, ones_column)) \n",
    "    \n",
    "    #calculating predicted values for y\n",
    "    O = Z @ weights2\n",
    "    y_hat = sigmoid(O)\n",
    "        \n",
    "    #calculating and appending loss with respect to labels for each epoch\n",
    "    loss = np.mean(0.5 * (training_y - y_hat) ** 2)\n",
    "    training_error.append(loss)\n",
    "    \n",
    "    #updating gradients with gradient descent\n",
    "    gradient1 = compute_gradients_weights1(training_x, training_y, weights1, Z, H, O, y_hat)\n",
    "    gradient2 = compute_gradients_weights2(training_x, training_y, weights2, Z, H, O, y_hat)\n",
    "    update_weights(weights1, weights2, gradient1, gradient2)"
   ]
  },
  {
   "cell_type": "code",
   "execution_count": 20,
   "id": "80bf3631",
   "metadata": {
    "scrolled": true
   },
   "outputs": [
    {
     "data": {
      "image/png": "[encoded data removed]",
      "text/plain": [
       "<Figure size 1000x800 with 1 Axes>"
      ]
     },
     "metadata": {},
     "output_type": "display_data"
    }
   ],
   "source": [
    "#plotting training error versus number of epochs\n",
    "training_error = np.array(training_error)\n",
    "yvals = training_error\n",
    "xvals = np.arange(len(yvals))\n",
    "\n",
    "#plotting\n",
    "plt.figure(figsize = (10, 8))\n",
    "plt.plot(xvals, yvals)\n",
    "plt.xlabel(\"Number of Epochs\", )\n",
    "plt.ylabel(\"Training Error\")\n",
    "plt.title(\"Epochs vs Training Error\")\n",
    "plt.savefig(\"Epochs_vs_TrainingError\")\n",
    "plt.grid(True)"
   ]
  },
  {
   "cell_type": "code",
   "execution_count": null,
   "id": "42e4c916",
   "metadata": {},
   "outputs": [],
   "source": []
  }
 ],
 "metadata": {
  "kernelspec": {
   "display_name": "Python 3 (ipykernel)",
   "language": "python",
   "name": "python3"
  },
  "language_info": {
   "codemirror_mode": {
    "name": "ipython",
    "version": 3
   },
   "file_extension": ".py",
   "mimetype": "text/x-python",
   "name": "python",
   "nbconvert_exporter": "python",
   "pygments_lexer": "ipython3",
   "version": "3.12.3"
  }
 },
 "nbformat": 4,
 "nbformat_minor": 5
}
